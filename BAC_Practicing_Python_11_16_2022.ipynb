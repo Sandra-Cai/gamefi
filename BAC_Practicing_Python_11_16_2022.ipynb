{
  "nbformat": 4,
  "nbformat_minor": 0,
  "metadata": {
    "colab": {
      "provenance": [],
      "include_colab_link": true
    },
    "kernelspec": {
      "name": "python3",
      "display_name": "Python 3"
    },
    "language_info": {
      "name": "python"
    }
  },
  "cells": [
    {
      "cell_type": "markdown",
      "metadata": {
        "id": "view-in-github",
        "colab_type": "text"
      },
      "source": [
        "<a href=\"https://colab.research.google.com/github/Sandra-Cai/gamefi/blob/main/BAC_Practicing_Python_11_16_2022.ipynb\" target=\"_parent\"><img src=\"https://colab.research.google.com/assets/colab-badge.svg\" alt=\"Open In Colab\"/></a>"
      ]
    },
    {
      "cell_type": "markdown",
      "metadata": {
        "id": "C5pKnkgJjTaF"
      },
      "source": [
        "Working on the version of the notebook that was shared with the link **won't save your progression.** You should save a copy of this notebook in your own drive.\n",
        "\n",
        "**Press File > Save a copy in Drive, and work on the document you saved on your Google Drive**\n",
        "\n",
        "*Quick tip: You can run each code box with shift+enter on Mac or shift+enter on Windows after clicking on it.*"
      ]
    },
    {
      "cell_type": "markdown",
      "metadata": {
        "id": "bncNxkcZjqJk"
      },
      "source": [
        "### **BAC Workshop: Practicing Python**"
      ]
    },
    {
      "cell_type": "markdown",
      "metadata": {
        "id": "XJcHrVZNkB54"
      },
      "source": [
        "# 1. Print() Function\n",
        "\n",
        "Prints any given message to the screen!"
      ]
    },
    {
      "cell_type": "code",
      "metadata": {
        "id": "M_i_dMcGfxAa"
      },
      "source": [
        "#prints Hello, world!\n",
        "print(\"Hello, world!\")"
      ],
      "execution_count": null,
      "outputs": []
    },
    {
      "cell_type": "code",
      "metadata": {
        "id": "thUhpvDwkNKT"
      },
      "source": [
        "#prints the number 9\n",
        "print(9)"
      ],
      "execution_count": null,
      "outputs": []
    },
    {
      "cell_type": "markdown",
      "metadata": {
        "id": "xPaCIXuokb7i"
      },
      "source": [
        "Practice time! Print the name of your favorite NYC Park using the code box below"
      ]
    },
    {
      "cell_type": "code",
      "metadata": {
        "id": "GUxk9WBHkcXr"
      },
      "source": [
        "#Your code goes here"
      ],
      "execution_count": null,
      "outputs": []
    },
    {
      "cell_type": "markdown",
      "metadata": {
        "id": "R0LrMunekfJL"
      },
      "source": [
        "# 2. Variable Types"
      ]
    },
    {
      "cell_type": "markdown",
      "metadata": {
        "id": "5tWPNobxkvGp"
      },
      "source": [
        "## Strings\n",
        "\n",
        "A string is a sequence of characters or letters"
      ]
    },
    {
      "cell_type": "code",
      "metadata": {
        "id": "TZvqqy4bkuhX"
      },
      "source": [
        "#This is a string\n",
        "\n",
        "my_name = \"Eeshaan\""
      ],
      "execution_count": null,
      "outputs": []
    },
    {
      "cell_type": "code",
      "metadata": {
        "id": "-YMtYX7mk8Wk"
      },
      "source": [
        "#Let's see what 'my_name' outputs\n",
        "\n",
        "print(my_name)"
      ],
      "execution_count": null,
      "outputs": []
    },
    {
      "cell_type": "code",
      "metadata": {
        "id": "v1Cb5r25lCGC"
      },
      "source": [
        "#update the my_name variable with your name\n",
        "\n",
        "my_name = "
      ],
      "execution_count": null,
      "outputs": []
    },
    {
      "cell_type": "markdown",
      "metadata": {
        "id": "09b64Gz9lGba"
      },
      "source": [
        "You can use variable names in a print function to print what is stored in the variable."
      ]
    },
    {
      "cell_type": "code",
      "metadata": {
        "id": "vtWPnAFzlG0M"
      },
      "source": [
        "print(\"My name is\", my_name)"
      ],
      "execution_count": null,
      "outputs": []
    },
    {
      "cell_type": "markdown",
      "metadata": {
        "id": "JZLP3L5SlJF2"
      },
      "source": [
        "## Integers, Floats, and Mathematical Operations\n",
        "\n",
        "Working with whole numbers, decimals, addition, subtraction, multiplication, division, to the power of, modulus, integer division"
      ]
    },
    {
      "cell_type": "code",
      "metadata": {
        "id": "X7qob4yAlTcn"
      },
      "source": [
        "#x is an integer\n",
        "\n",
        "x = 9"
      ],
      "execution_count": null,
      "outputs": []
    },
    {
      "cell_type": "code",
      "metadata": {
        "id": "L8yRZP9ClhSZ"
      },
      "source": [
        "#assign your age to the 'my_age' variable and run the cell\n",
        "\n",
        "my_age = \n",
        "print('My age is', my_age)\n",
        "print(type(my_age))"
      ],
      "execution_count": null,
      "outputs": []
    },
    {
      "cell_type": "code",
      "metadata": {
        "id": "M2ZZpjkgorlQ"
      },
      "source": [
        "#floats have decimals\n",
        "\n",
        "y = 9.2\n",
        "print(type(y))"
      ],
      "execution_count": null,
      "outputs": []
    },
    {
      "cell_type": "code",
      "metadata": {
        "id": "JE_G7Ingo05d"
      },
      "source": [
        "#addition\n",
        "\n",
        "print(7+2)"
      ],
      "execution_count": null,
      "outputs": []
    },
    {
      "cell_type": "code",
      "metadata": {
        "id": "pkuhSeGhpD_q"
      },
      "source": [
        "#subtraction\n",
        "\n",
        "print(7-2)"
      ],
      "execution_count": null,
      "outputs": []
    },
    {
      "cell_type": "code",
      "metadata": {
        "id": "G9YIEojNpFpm"
      },
      "source": [
        "#multiplication\n",
        "\n",
        "print(7*2)"
      ],
      "execution_count": null,
      "outputs": []
    },
    {
      "cell_type": "code",
      "metadata": {
        "id": "H0rEX5oipIP-"
      },
      "source": [
        "#division\n",
        "\n",
        "print(7/2)"
      ],
      "execution_count": null,
      "outputs": []
    },
    {
      "cell_type": "code",
      "metadata": {
        "id": "DfBxtgH3pJ2T"
      },
      "source": [
        "#integer division, notice how the operation returns rounds the division result to the nearest int\n",
        "\n",
        "print(7//2)"
      ],
      "execution_count": null,
      "outputs": []
    },
    {
      "cell_type": "code",
      "metadata": {
        "id": "I2SH1jKxpLuU"
      },
      "source": [
        "#modulo operator, shows the remainder of the division of the element before the operator by the element after the operator\n",
        "\n",
        "print(7%2)"
      ],
      "execution_count": null,
      "outputs": []
    },
    {
      "cell_type": "code",
      "metadata": {
        "id": "NgVtBwOMpNeV"
      },
      "source": [
        "#7 to the power of 2\n",
        "\n",
        "print(7**2)"
      ],
      "execution_count": null,
      "outputs": []
    },
    {
      "cell_type": "markdown",
      "metadata": {
        "id": "ETtZOXgepmxz"
      },
      "source": [
        "Practice 1: You decide to invest \\$10,000 into Apple stock(\\$AAPL). If the stock was \\$40 when you bought it, how much will your investment be worth if the stock hits \\$300?"
      ]
    },
    {
      "cell_type": "code",
      "metadata": {
        "id": "MiL_x3oXpl43"
      },
      "source": [
        "#your code goes here\n",
        "#use only mathematical operations for this exercise\n"
      ],
      "execution_count": null,
      "outputs": []
    },
    {
      "cell_type": "markdown",
      "metadata": {
        "id": "Z-HsAHcUp8Ps"
      },
      "source": [
        "Practice 2: You order food from Chipotle. You get a chicken burrito bowl, \\$11, and chips and guacamole, \\$3.45. Add a 8.875% tax, and then add a 20% tip calculated on the pre-tax amount."
      ]
    },
    {
      "cell_type": "code",
      "metadata": {
        "id": "C6mW6Q2Jp1cU"
      },
      "source": [
        "#your code goes here\n",
        "#use only mathematical operations for this exercise\n"
      ],
      "execution_count": null,
      "outputs": []
    },
    {
      "cell_type": "markdown",
      "metadata": {
        "id": "faLrtnFbqa_Q"
      },
      "source": [
        "# 3. Variables\n",
        "\n",
        "Instead of cramming all the numbers into the print function, we can use variables that will represent each number. You can name your variable anything, but the name shouldn't start with a number. The name also can't include the @ sign or a **space**. Using variables makes updating calculations so much easier."
      ]
    },
    {
      "cell_type": "markdown",
      "source": [
        "Practice 1: You decide to invest \\$10,000 into Apple stock(\\$AAPL). If the stock was \\$40 when you bought it, how much will your investment be worth if the stock hits \\$300?"
      ],
      "metadata": {
        "id": "1cDCM0YcZM_b"
      }
    },
    {
      "cell_type": "code",
      "metadata": {
        "id": "NP_KpyLxqms7"
      },
      "source": [
        "#try re-writing your code to include variables now\n"
      ],
      "execution_count": null,
      "outputs": []
    },
    {
      "cell_type": "markdown",
      "source": [
        "Practice 2: You order food from Chipotle. You get a chicken burrito bowl, \\$11, and chips and guacamole, \\$3.45. Add a 8.875% tax, and then add a 20% tip calculated on the pre-tax amount."
      ],
      "metadata": {
        "id": "oBDSmF6DZI-c"
      }
    },
    {
      "cell_type": "code",
      "source": [
        "# try re-writing your code to include variables now\n"
      ],
      "metadata": {
        "id": "jaNa9hScZJuC"
      },
      "execution_count": null,
      "outputs": []
    },
    {
      "cell_type": "markdown",
      "metadata": {
        "id": "I5j1zqVwrVBv"
      },
      "source": [
        "Now, let's update our previous calculation for a new scenario. This time, we only get a steak burrito bowl instead costing $13, and decided that we would instead give a 15% tip."
      ]
    },
    {
      "cell_type": "code",
      "metadata": {
        "id": "hNadl8BnrHNx"
      },
      "source": [
        "#write your code here\n"
      ],
      "execution_count": null,
      "outputs": []
    },
    {
      "cell_type": "markdown",
      "metadata": {
        "id": "GVnWT6OGzdoU"
      },
      "source": [
        "# 4. Booleans and If/Else Statements"
      ]
    },
    {
      "cell_type": "markdown",
      "metadata": {
        "id": "w6f-lH1Nzj_k"
      },
      "source": [
        "Introducing another variable type, Boolean. A Boolean has two possible values: True, False"
      ]
    },
    {
      "cell_type": "code",
      "metadata": {
        "id": "YkHccT_WrkSb"
      },
      "source": [
        "a = True\n",
        "b = False\n",
        "print(a,b)"
      ],
      "execution_count": null,
      "outputs": []
    },
    {
      "cell_type": "markdown",
      "metadata": {
        "id": "hAG9iUktzmXJ"
      },
      "source": [
        "Comparison operators return a Boolean value after comparing two values:\n",
        "\n",
        "\n",
        "Comparison Operator | Name\n",
        "--- | ---\n",
        "==| Equal\n",
        "!= | Not Equal\n",
        "< | Less Than\n",
        ">| Greater Than\n",
        ">= | Great Than or Equal To\n",
        "<= | Less Than or Equal To\n"
      ]
    },
    {
      "cell_type": "markdown",
      "source": [
        "**Let's practice!**"
      ],
      "metadata": {
        "id": "UBZeuLLVaa57"
      }
    },
    {
      "cell_type": "code",
      "metadata": {
        "id": "ZmTb2ZMgzn5i"
      },
      "source": [
        "print(6==3)"
      ],
      "execution_count": null,
      "outputs": []
    },
    {
      "cell_type": "code",
      "metadata": {
        "id": "SlhDFS1nzsWX"
      },
      "source": [
        "print(6!=3)"
      ],
      "execution_count": null,
      "outputs": []
    },
    {
      "cell_type": "code",
      "metadata": {
        "id": "J2IDLr6cztYC"
      },
      "source": [
        "print(6<3)"
      ],
      "execution_count": null,
      "outputs": []
    },
    {
      "cell_type": "code",
      "metadata": {
        "id": "zFHYYUslztvK"
      },
      "source": [
        "print(6>3)"
      ],
      "execution_count": null,
      "outputs": []
    },
    {
      "cell_type": "code",
      "metadata": {
        "id": "Kn1E6jt6zt1N"
      },
      "source": [
        "print(6<=3)"
      ],
      "execution_count": null,
      "outputs": []
    },
    {
      "cell_type": "code",
      "metadata": {
        "id": "JgoNG4rizt5u"
      },
      "source": [
        "print(6>=3)"
      ],
      "execution_count": null,
      "outputs": []
    },
    {
      "cell_type": "markdown",
      "metadata": {
        "id": "g9YwasUEz2eK"
      },
      "source": [
        "You can use logical operators to combine or manipulate conditions.\n",
        "\n",
        "Logical Operator | How it works\n",
        "---|---\n",
        "and | returns True if both conditions are true\n",
        "or| returns True if one or two conditions are true\n",
        "not | reverses the condition"
      ]
    },
    {
      "cell_type": "markdown",
      "metadata": {
        "id": "kaYyUBK1z43s"
      },
      "source": [
        "Name of the game: Guess the Boolean Expression"
      ]
    },
    {
      "cell_type": "code",
      "metadata": {
        "id": "mGHA_KQRz23N"
      },
      "source": [
        "(72 < 12) or (12 != 34)"
      ],
      "execution_count": null,
      "outputs": []
    },
    {
      "cell_type": "code",
      "metadata": {
        "id": "l8PL7pRHz8Dr"
      },
      "source": [
        "(7 <= 7) and (93 == 39)"
      ],
      "execution_count": null,
      "outputs": []
    },
    {
      "cell_type": "code",
      "metadata": {
        "id": "FB6YSV9Oz8Ge"
      },
      "source": [
        "not (23>26)"
      ],
      "execution_count": null,
      "outputs": []
    },
    {
      "cell_type": "code",
      "metadata": {
        "id": "VIz59qA3z8JE"
      },
      "source": [
        "(192 != 0) and not (1 > 0)"
      ],
      "execution_count": null,
      "outputs": []
    },
    {
      "cell_type": "code",
      "metadata": {
        "id": "A4W_0ydZz8Nt"
      },
      "source": [
        "not (87 == 87) or (\"NYU\" == \"NYU\")"
      ],
      "execution_count": null,
      "outputs": []
    },
    {
      "cell_type": "markdown",
      "source": [
        "**Now, let's see how Booleans incorporate If/Else statements**"
      ],
      "metadata": {
        "id": "D0jwJWVPbWt2"
      }
    },
    {
      "cell_type": "markdown",
      "metadata": {
        "id": "fVQlZQG10KiI"
      },
      "source": [
        "Here is the syntax for an if statement:\n",
        "\n",
        "```\n",
        "if (first condition): \n",
        "  code to be executed if the  condition is True\n",
        "\n",
        "elif (second condition): \n",
        "  code to be executed if first condition if False but the second condition is True\n",
        "\n",
        "else: \n",
        "  code to be executed if both of the conditions are False\n",
        "\n",
        "```\n",
        "**Important: notice how code sections to be run are indented below each statement**\n",
        "\n"
      ]
    },
    {
      "cell_type": "code",
      "metadata": {
        "id": "COFFbomd0KJf"
      },
      "source": [
        "#let's write an example that checks if a number is even or odd\n"
      ],
      "execution_count": null,
      "outputs": []
    },
    {
      "cell_type": "markdown",
      "metadata": {
        "id": "MU-YCXQj0Zp_"
      },
      "source": [
        "Practice 1: The minimum legal drinking age in the US is 21. Use an if statement to print whether your age is legally allowed to drink or not."
      ]
    },
    {
      "cell_type": "code",
      "metadata": {
        "id": "8SeBEsub0FnO"
      },
      "source": [
        "#your code goes here"
      ],
      "execution_count": null,
      "outputs": []
    },
    {
      "cell_type": "markdown",
      "metadata": {
        "id": "QVl6UQix0rWu"
      },
      "source": [
        "Practice 2: Every 4 years, we add an extra day to February, and we call those years leap years. We know that 2020 was a leap year. Print whether a given year is a leap year using an if statement."
      ]
    },
    {
      "cell_type": "code",
      "metadata": {
        "id": "rduP8U7E0uhd"
      },
      "source": [
        "#your code goes here"
      ],
      "execution_count": null,
      "outputs": []
    },
    {
      "cell_type": "markdown",
      "metadata": {
        "id": "XD_Pr-rF2JHR"
      },
      "source": [
        "# 5. Loops"
      ]
    },
    {
      "cell_type": "markdown",
      "metadata": {
        "id": "39I6vIBR2L16"
      },
      "source": [
        "### For Loops"
      ]
    },
    {
      "cell_type": "markdown",
      "source": [
        "The for loop in Python is used to iterate over a sequence (list, tuple, string) or other iterable objects. Iterating over a sequence is called traversal. Traversing equates to \"looking\" at every element in a list in order (if it has an order). The frequency in which it traverses can also be controlled."
      ],
      "metadata": {
        "id": "G2FQxtGjc_zS"
      }
    },
    {
      "cell_type": "markdown",
      "metadata": {
        "id": "QqB77nXH2qbj"
      },
      "source": [
        "```\n",
        "for random_new_variable_name in [some iterable object]:\n",
        "  #do stuff \n",
        "```\n",
        "\n",
        "\n",
        "\n",
        "\n",
        "\n"
      ]
    },
    {
      "cell_type": "code",
      "metadata": {
        "id": "LMiKN5qm2S8R"
      },
      "source": [
        "# let's write a program to print numbers 0 to 9\n"
      ],
      "execution_count": null,
      "outputs": []
    },
    {
      "cell_type": "code",
      "metadata": {
        "id": "9LA1U2lr4gcy",
        "colab": {
          "base_uri": "https://localhost:8080/"
        },
        "outputId": "1e5eebb3-5aa3-4cac-ac54-08e38b7e8ec0"
      },
      "source": [
        "#you can adjust the range as you wish-- you're in control!\n",
        "for i in range(1,10): \n",
        "  print(i)"
      ],
      "execution_count": null,
      "outputs": [
        {
          "output_type": "stream",
          "name": "stdout",
          "text": [
            "1\n",
            "2\n",
            "3\n",
            "4\n",
            "5\n",
            "6\n",
            "7\n",
            "8\n",
            "9\n"
          ]
        }
      ]
    },
    {
      "cell_type": "markdown",
      "metadata": {
        "id": "j9-Otj7h2OZe"
      },
      "source": [
        "### While Loops"
      ]
    },
    {
      "cell_type": "markdown",
      "source": [
        "The for loop in Python is used to iterate over a sequence (list, tuple, string) or other iterable objects. Iterating over a sequence is called traversal."
      ],
      "metadata": {
        "id": "zq3G6_51dJ9G"
      }
    },
    {
      "cell_type": "markdown",
      "metadata": {
        "id": "qTLz_E2O5IZ9"
      },
      "source": [
        "```\n",
        "assign value to a variable\n",
        "i.e. i = 0 or i = True\n",
        "while variable [comparison operator] value:\n",
        "  #do stuff\n",
        "  #iterate through variable\n",
        "```\n",
        "\n",
        "\n",
        "\n",
        "\n",
        "\n"
      ]
    },
    {
      "cell_type": "code",
      "metadata": {
        "id": "Nzu51GPk2LFM"
      },
      "source": [
        "# let's write a program to print numbers 0 to 9"
      ],
      "execution_count": null,
      "outputs": []
    },
    {
      "cell_type": "code",
      "metadata": {
        "id": "_q_tBoC_5oPg"
      },
      "source": [
        "# we can use while loops involving booleans as well\n",
        "x = False\n",
        "\n",
        "while x == False:\n",
        "  if 3 < 6:\n",
        "    x = True\n",
        "print(x)"
      ],
      "execution_count": null,
      "outputs": []
    },
    {
      "cell_type": "markdown",
      "metadata": {
        "id": "FaKEOCVL6Jzf"
      },
      "source": [
        "# 6. Data Structures"
      ]
    },
    {
      "cell_type": "markdown",
      "metadata": {
        "id": "SVmJ0X4m6fHn"
      },
      "source": [
        "## Lists\n"
      ]
    },
    {
      "cell_type": "markdown",
      "metadata": {
        "id": "sK4jUZc56tTY"
      },
      "source": [
        "https://www.w3schools.com/python/python_lists.asp"
      ]
    },
    {
      "cell_type": "markdown",
      "metadata": {
        "id": "HwMqHjX76lE5"
      },
      "source": [
        "## Dictionaries"
      ]
    },
    {
      "cell_type": "markdown",
      "metadata": {
        "id": "jHpHuJC06xNM"
      },
      "source": [
        "https://www.w3schools.com/python/python_dictionaries.asp|"
      ]
    },
    {
      "cell_type": "markdown",
      "metadata": {
        "id": "2MYbkecC6yMa"
      },
      "source": [
        "## Sets"
      ]
    },
    {
      "cell_type": "markdown",
      "metadata": {
        "id": "nJ-2z02i60PT"
      },
      "source": [
        "https://www.w3schools.com/python/python_sets.asp"
      ]
    },
    {
      "cell_type": "markdown",
      "metadata": {
        "id": "7A3L1Nq162oe"
      },
      "source": [
        "## Tuples"
      ]
    },
    {
      "cell_type": "markdown",
      "metadata": {
        "id": "13DjmwZr62uM"
      },
      "source": [
        "https://www.w3schools.com/python/python_tuples.asp"
      ]
    }
  ]
}